{
 "cells": [
  {
   "cell_type": "code",
   "execution_count": 71,
   "id": "0c2308c7",
   "metadata": {
    "scrolled": false
   },
   "outputs": [
    {
     "data": {
      "text/html": [
       "\n",
       "        <iframe\n",
       "            width=\"100%\"\n",
       "            height=\"650\"\n",
       "            src=\"http://127.0.0.1:8050/\"\n",
       "            frameborder=\"0\"\n",
       "            allowfullscreen\n",
       "            \n",
       "        ></iframe>\n",
       "        "
      ],
      "text/plain": [
       "<IPython.lib.display.IFrame at 0x1d4c7260ad0>"
      ]
     },
     "metadata": {},
     "output_type": "display_data"
    }
   ],
   "source": [
    "from datetime import datetime\n",
    "import time\n",
    "import plotly.graph_objects as go\n",
    "import pandas as pd\n",
    "\n",
    "\n",
    "def main() -> None:\n",
    "    app=Dash()\n",
    "    app.layout = html.Div([\n",
    "    dcc.Input(\n",
    "        id='user_age',\n",
    "        type='number',\n",
    "        value=30\n",
    "    ),\n",
    "    \n",
    "    \n",
    "    dcc.Graph(id='plot_age')\n",
    "    ])\n",
    "    app.run()\n",
    "\n",
    "@callback(\n",
    "    Output('plot_age', 'figure'),\n",
    "    Input('user_age', 'value'))\n",
    "\n",
    "def update_graph(user_age):\n",
    "    current_year=datetime.now().year\n",
    "    born_year=current_year-user_age\n",
    "    df = pd.DataFrame({'x':range(born_year,current_year+1,1),\n",
    "                      'y':range(0,user_age+1,1)})\n",
    "    \n",
    "    fig = go.Figure([go.Scatter(x = df['x'], y = df['y'],\n",
    "                                line = dict(color = 'firebrick', width = 4))\n",
    "                     ])\n",
    "    fig.update_layout(\n",
    "        yaxis_range=[-2,80],\n",
    "    xaxis=dict(\n",
    "        title=\"Year\"\n",
    "    ),\n",
    "    yaxis=dict(\n",
    "        title=\"User age\"\n",
    "    ) )\n",
    "\n",
    "    return fig\n",
    "\n",
    "if __name__ == '__main__':\n",
    "    main()"
   ]
  }
 ],
 "metadata": {
  "kernelspec": {
   "display_name": "Python 3 (ipykernel)",
   "language": "python",
   "name": "python3"
  },
  "language_info": {
   "codemirror_mode": {
    "name": "ipython",
    "version": 3
   },
   "file_extension": ".py",
   "mimetype": "text/x-python",
   "name": "python",
   "nbconvert_exporter": "python",
   "pygments_lexer": "ipython3",
   "version": "3.11.4"
  }
 },
 "nbformat": 4,
 "nbformat_minor": 5
}
